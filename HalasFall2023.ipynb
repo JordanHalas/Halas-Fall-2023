{
  "nbformat": 4,
  "nbformat_minor": 0,
  "metadata": {
    "colab": {
      "provenance": [],
      "gpuType": "T4",
      "authorship_tag": "ABX9TyMgQeYlp2k4ghqgxH8Idt8S",
      "include_colab_link": true
    },
    "kernelspec": {
      "name": "python3",
      "display_name": "Python 3"
    },
    "language_info": {
      "name": "python"
    },
    "accelerator": "GPU"
  },
  "cells": [
    {
      "cell_type": "markdown",
      "metadata": {
        "id": "view-in-github",
        "colab_type": "text"
      },
      "source": [
        "<a href=\"https://colab.research.google.com/github/JordanHalas/Halas-Fall-2023/blob/main/HalasFall2023.ipynb\" target=\"_parent\"><img src=\"https://colab.research.google.com/assets/colab-badge.svg\" alt=\"Open In Colab\"/></a>"
      ]
    },
    {
      "cell_type": "markdown",
      "source": [
        "Halas Fall 2023 Demo"
      ],
      "metadata": {
        "id": "MlQwKlVUrRT6"
      }
    },
    {
      "cell_type": "code",
      "source": [
        "2+2+10"
      ],
      "metadata": {
        "colab": {
          "base_uri": "https://localhost:8080/"
        },
        "id": "W-t6ZChErh2G",
        "outputId": "eebc4625-1945-44dc-e29a-f2f0525d89c8"
      },
      "execution_count": 1,
      "outputs": [
        {
          "output_type": "execute_result",
          "data": {
            "text/plain": [
              "14"
            ]
          },
          "metadata": {},
          "execution_count": 1
        }
      ]
    },
    {
      "cell_type": "code",
      "execution_count": 3,
      "metadata": {
        "colab": {
          "base_uri": "https://localhost:8080/"
        },
        "id": "GSc_6umIquZ-",
        "outputId": "a9f10fd4-d3a7-42a7-9fe6-225fce1e0f59"
      },
      "outputs": [
        {
          "output_type": "execute_result",
          "data": {
            "text/plain": [
              "2187"
            ]
          },
          "metadata": {},
          "execution_count": 3
        }
      ],
      "source": [
        "3**7"
      ]
    },
    {
      "cell_type": "code",
      "source": [],
      "metadata": {
        "id": "to8iXjrWrQO3"
      },
      "execution_count": null,
      "outputs": []
    },
    {
      "cell_type": "code",
      "source": [],
      "metadata": {
        "id": "46hWefW7rQas"
      },
      "execution_count": null,
      "outputs": []
    },
    {
      "cell_type": "code",
      "source": [],
      "metadata": {
        "id": "AKsBPb7OrQmV"
      },
      "execution_count": null,
      "outputs": []
    }
  ]
}